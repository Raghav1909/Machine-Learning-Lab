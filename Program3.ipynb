{
 "cells": [
  {
   "cell_type": "code",
   "execution_count": 6,
   "id": "6464cb77-755a-473d-9798-d1595f7d28a5",
   "metadata": {},
   "outputs": [],
   "source": [
    "import numpy as np\n",
    "import pandas as pd"
   ]
  },
  {
   "cell_type": "code",
   "execution_count": 17,
   "id": "da76e665-279f-4d04-b127-2fb3e2dc5eee",
   "metadata": {},
   "outputs": [
    {
     "name": "stdout",
     "output_type": "stream",
     "text": [
      "Instances are:\n",
      " [['sunny' 'warm' 'normal' 'strong' 'warm' 'same']\n",
      " ['sunny' 'warm' 'high' 'strong' 'warm' 'same']\n",
      " ['rainy' 'cold' 'high' 'strong' 'warm' 'change']\n",
      " ['sunny' 'warm' 'high' 'strong' 'cool' 'change']]\n",
      "Target values are: ['yes' 'yes' 'no' 'yes']\n"
     ]
    }
   ],
   "source": [
    "data = pd.read_csv('../datasets/enjoysport.csv')\n",
    "concepts = np.array(data.iloc[:, :-1])\n",
    "print(\"Instances are:\\n\", concepts)\n",
    "target = np.array(data.iloc[:, -1])\n",
    "print(\"Target values are:\", target)"
   ]
  },
  {
   "cell_type": "code",
   "execution_count": 22,
   "id": "2026f5fc-5c35-4217-ac93-fac48e73ca2c",
   "metadata": {},
   "outputs": [],
   "source": [
    "def train(concepts, target):\n",
    "    specific_h = concepts[0].copy()\n",
    "    print(\"Initialization of specific and general hypothesis\")\n",
    "    print(\"Specific boundary:\", specific_h)\n",
    "    general_h = [['?' for i in range(len(specific_h))] for i in range(len(specific_h))]\n",
    "\n",
    "    print(\"General boundary\", general_h)\n",
    "\n",
    "    for i, val in enumerate(concepts):\n",
    "        print(\"Instance\", i+1, \"is\", val)\n",
    "        if target[i] == 1:\n",
    "            print(\"Instance is +ve\")\n",
    "            for x in range(len(specific_h)):\n",
    "                if val[x] != specific_h[x]:\n",
    "                    specific_h[x] = '?'\n",
    "                    general_h[x][x] = '?'\n",
    "\n",
    "        if target[i] == 0:\n",
    "            print(\"Instance is -ve\")\n",
    "            for x in range(len(specific_h)):\n",
    "                if val[x] != specific_h[x]:\n",
    "                    general_h[x][x] = specific_h[x]\n",
    "                else:\n",
    "                    general_h[x][x] = '?'\n",
    "\n",
    "        print(\"Specific boundary after\", i+1, \"Instance is\", specific_h)\n",
    "        print(\"Generic boundary after\", i+1, \"Instance is\", general_h)\n",
    "\n",
    "    indices = [i for i, val in enumerate(general_h) if val == ['?','?','?','?','?','?']]\n",
    "    \n",
    "    for i in indices:\n",
    "        general_h.remove(['?','?','?','?','?','?'])\n",
    "    \n",
    "    return specific_h, general_h"
   ]
  },
  {
   "cell_type": "code",
   "execution_count": 23,
   "id": "1ea3ef9a-ba2a-4aa1-a6bb-0608817d5700",
   "metadata": {},
   "outputs": [
    {
     "name": "stdout",
     "output_type": "stream",
     "text": [
      "Initialization of specific and general hypothesis\n",
      "Specific boundary: ['sunny' 'warm' 'normal' 'strong' 'warm' 'same']\n",
      "General boundary [['?', '?', '?', '?', '?', '?'], ['?', '?', '?', '?', '?', '?'], ['?', '?', '?', '?', '?', '?'], ['?', '?', '?', '?', '?', '?'], ['?', '?', '?', '?', '?', '?'], ['?', '?', '?', '?', '?', '?']]\n",
      "Instance 1 is ['sunny' 'warm' 'normal' 'strong' 'warm' 'same']\n",
      "Specific boundary after 1 Instance is ['sunny' 'warm' 'normal' 'strong' 'warm' 'same']\n",
      "Generic boundary after 1 Instance is [['?', '?', '?', '?', '?', '?'], ['?', '?', '?', '?', '?', '?'], ['?', '?', '?', '?', '?', '?'], ['?', '?', '?', '?', '?', '?'], ['?', '?', '?', '?', '?', '?'], ['?', '?', '?', '?', '?', '?']]\n",
      "Instance 2 is ['sunny' 'warm' 'high' 'strong' 'warm' 'same']\n",
      "Specific boundary after 2 Instance is ['sunny' 'warm' 'normal' 'strong' 'warm' 'same']\n",
      "Generic boundary after 2 Instance is [['?', '?', '?', '?', '?', '?'], ['?', '?', '?', '?', '?', '?'], ['?', '?', '?', '?', '?', '?'], ['?', '?', '?', '?', '?', '?'], ['?', '?', '?', '?', '?', '?'], ['?', '?', '?', '?', '?', '?']]\n",
      "Instance 3 is ['rainy' 'cold' 'high' 'strong' 'warm' 'change']\n",
      "Specific boundary after 3 Instance is ['sunny' 'warm' 'normal' 'strong' 'warm' 'same']\n",
      "Generic boundary after 3 Instance is [['?', '?', '?', '?', '?', '?'], ['?', '?', '?', '?', '?', '?'], ['?', '?', '?', '?', '?', '?'], ['?', '?', '?', '?', '?', '?'], ['?', '?', '?', '?', '?', '?'], ['?', '?', '?', '?', '?', '?']]\n",
      "Instance 4 is ['sunny' 'warm' 'high' 'strong' 'cool' 'change']\n",
      "Specific boundary after 4 Instance is ['sunny' 'warm' 'normal' 'strong' 'warm' 'same']\n",
      "Generic boundary after 4 Instance is [['?', '?', '?', '?', '?', '?'], ['?', '?', '?', '?', '?', '?'], ['?', '?', '?', '?', '?', '?'], ['?', '?', '?', '?', '?', '?'], ['?', '?', '?', '?', '?', '?'], ['?', '?', '?', '?', '?', '?']]\n",
      "Final specific_h: \n",
      "['sunny' 'warm' 'normal' 'strong' 'warm' 'same']\n",
      "Final generic_h:  []\n"
     ]
    }
   ],
   "source": [
    "s_final, g_final = train(concepts, target)\n",
    "print(\"Final specific_h: \", s_final, sep = '\\n')\n",
    "print(\"Final generic_h: \", g_final)"
   ]
  },
  {
   "cell_type": "code",
   "execution_count": null,
   "id": "a8649aaf-8079-4150-9834-ce02868704de",
   "metadata": {},
   "outputs": [],
   "source": []
  }
 ],
 "metadata": {
  "kernelspec": {
   "display_name": "Python 3 (ipykernel)",
   "language": "python",
   "name": "python3"
  },
  "language_info": {
   "codemirror_mode": {
    "name": "ipython",
    "version": 3
   },
   "file_extension": ".py",
   "mimetype": "text/x-python",
   "name": "python",
   "nbconvert_exporter": "python",
   "pygments_lexer": "ipython3",
   "version": "3.12.0"
  }
 },
 "nbformat": 4,
 "nbformat_minor": 5
}
